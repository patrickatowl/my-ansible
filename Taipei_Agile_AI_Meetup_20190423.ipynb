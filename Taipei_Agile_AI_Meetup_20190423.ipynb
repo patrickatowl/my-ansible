{
  "nbformat": 4,
  "nbformat_minor": 0,
  "metadata": {
    "colab": {
      "name": "Taipei Agile AI Meetup 20190423",
      "version": "0.3.2",
      "provenance": [],
      "collapsed_sections": [],
      "toc_visible": true,
      "include_colab_link": true
    },
    "kernelspec": {
      "name": "python3",
      "display_name": "Python 3"
    }
  },
  "cells": [
    {
      "cell_type": "markdown",
      "metadata": {
        "id": "view-in-github",
        "colab_type": "text"
      },
      "source": [
        "<a href=\"https://colab.research.google.com/github/patrickatowl/my-ansible/blob/master/Taipei_Agile_AI_Meetup_20190423.ipynb\" target=\"_parent\"><img src=\"https://colab.research.google.com/assets/colab-badge.svg\" alt=\"Open In Colab\"/></a>"
      ]
    },
    {
      "metadata": {
        "id": "hXuVrOBk6xip",
        "colab_type": "text"
      },
      "cell_type": "markdown",
      "source": [
        "# Python 101 零基礎幼幼班\n",
        "## [台北敏捷 AI 社群](https://www.meetup.com/Taipei-Agile-AI/) 20190423 小聚\n",
        "![](https://secure.meetupstatic.com/photos/event/d/1/e/c/highres_480053740.jpeg)\n"
      ]
    },
    {
      "metadata": {
        "id": "9dmVhET3fVmQ",
        "colab_type": "text"
      },
      "cell_type": "markdown",
      "source": [
        "## 敏捷軟體開發宣言\n",
        "藉著親自並協助他人進行軟體開發，我們正致力於發掘更優良的軟體開發方法。\n",
        "\n",
        "透過這樣的努力，我們已建立以下價值觀:\n",
        "\n",
        "> 個人與互動 重於 流程與工具\n",
        "\n",
        "> 可用的軟體 重於 詳盡的文件\n",
        "\n",
        "> 與客戶合作 重於 合約協商\n",
        "\n",
        "> 回應變化 重於 遵循計劃  \n",
        "\n",
        "也就是說，雖然右側項目有其價值，但我們更重視左側項目。"
      ]
    },
    {
      "metadata": {
        "id": "yDFm3AmGgVcs",
        "colab_type": "text"
      },
      "cell_type": "markdown",
      "source": [
        "## The Zen of Python (Python 之道)\n",
        "\n",
        "> Beautiful is better than ugly.\n",
        "\n",
        "優美勝於醜陋（Python 以編寫優美的代碼為目標）\n",
        "\n",
        "> Explicit is better than implicit.\n",
        "\n",
        "明了勝於晦澀（優美的代碼應當是明了的，命名規範，風格相似）\n",
        "\n",
        "> Simple is better than complex.\n",
        "\n",
        "簡潔勝於復雜（優美的代碼應當是簡潔的，不要有復雜的內部實現）\n",
        "\n",
        "> Complex is better than complicated.\n",
        "\n",
        "複雜勝於凌亂（如果復雜不可避免，那代碼間也不能有難懂的關係，要保持接口簡潔）\n",
        "\n",
        "> Flat is better than nested.\n",
        "\n",
        "扁平勝於嵌套（優美的代碼應當是扁平的，不能有太多的嵌套）\n",
        "\n",
        "> Sparse is better than dense.\n",
        "\n",
        "間隔勝於緊湊（優美的代碼有適當的間隔，不要奢望一行代碼解決問題）\n",
        "\n",
        "> Readability counts.\n",
        "\n",
        "可讀性很重要（優美的代碼是可讀的）\n",
        "\n",
        "> Special cases aren't special enough to break the rules.\n",
        "\n",
        "> Although practicality beats purity.\n",
        "\n",
        "即便假借特例的實用性之名，也不可違背這些規則（這些規則至高無上）\n",
        "\n",
        "> Errors should never pass silently.\n",
        "\n",
        "不要包容所有錯誤\n",
        "\n",
        "> Unless explicitly silenced.\n",
        "\n",
        "除非你確定需要這樣做（精準地捕獲異常，不寫 except:pass 風格的代碼）\n",
        "\n",
        "> In the face of ambiguity, refuse the temptation to guess.\n",
        "\n",
        "當存在多種可能，不要嘗試去猜測\n",
        "\n",
        "> There should be one-- and preferably only one --obvious way to do it.\n",
        "\n",
        "而是盡量找一種，最好是唯一一種明顯的解決方案（如果不確定，就用窮舉法）\n",
        "\n",
        "> Although that way may not be obvious at first unless you're Dutch.\n",
        "\n",
        "雖然這並不容易，因為你不是 Python 之父\n",
        "\n",
        "> Now is better than never.\n",
        "\n",
        "現在做好過不做\n",
        "\n",
        "> Although never is often better than *right* now.\n",
        "\n",
        "但不假思索就動手還不如不做（動手之前要細思量）\n",
        "\n",
        "> If the implementation is hard to explain, it's a bad idea.\n",
        "\n",
        "如果你無法向人解釋你的方案，那肯定不是一個好方案\n",
        "\n",
        "> If the implementation is easy to explain, it may be a good idea.\n",
        "\n",
        "反之亦然（方案測評標準）\n",
        "\n",
        "> Namespaces are one honking great idea -- let's do more of those!\n",
        "\n",
        "命名空間是一種絕妙的理念，我們應當多加利用（倡導與號召）"
      ]
    },
    {
      "metadata": {
        "id": "mutR26q4TEv1",
        "colab_type": "text"
      },
      "cell_type": "markdown",
      "source": [
        "## 第一個 Python 程式\n",
        "\n",
        "第一個程式就用 print() 這個函數 來跟大家打招呼吧！"
      ]
    },
    {
      "metadata": {
        "id": "s8QFM48HTo63",
        "colab_type": "code",
        "outputId": "63563a09-6132-4b66-ad75-05083b3ee119",
        "colab": {
          "base_uri": "https://localhost:8080/",
          "height": 441
        }
      },
      "cell_type": "code",
      "source": [
        "%%html\n",
        "<a href=\"https://blockly-demo.appspot.com/static/demos/code/index.html?lang=zh-hant#nreom4\" target=\"_blank\">\n",
        "  https://blockly-demo.appspot.com/static/demos/code/index.html?lang=en#nreom4\n",
        "</a>\n",
        "<iframe src=\"https://blockly-demo.appspot.com/static/demos/code/index.html?lang=zh-hant#nreom4\" width=\"920\" height=\"400\"></iframe>"
      ],
      "execution_count": 0,
      "outputs": [
        {
          "output_type": "display_data",
          "data": {
            "text/html": [
              "<a href=\"https://blockly-demo.appspot.com/static/demos/code/index.html?lang=zh-hant#nreom4\" target=\"_blank\">\n",
              "  https://blockly-demo.appspot.com/static/demos/code/index.html?lang=en#nreom4\n",
              "</a>\n",
              "<iframe src=\"https://blockly-demo.appspot.com/static/demos/code/index.html?lang=zh-hant#nreom4\" width=\"920\" height=\"400\"></iframe>"
            ],
            "text/plain": [
              "<IPython.core.display.HTML object>"
            ]
          },
          "metadata": {
            "tags": []
          }
        }
      ]
    },
    {
      "metadata": {
        "id": "RxJRjUyXT7cS",
        "colab_type": "code",
        "outputId": "82d1094c-de34-4d58-969f-128864b414bb",
        "colab": {
          "base_uri": "https://localhost:8080/",
          "height": 34
        }
      },
      "cell_type": "code",
      "source": [
        "# 自我練習，在下方輸入程式碼\n",
        "\n",
        "print(\"Hi! Everbody\")"
      ],
      "execution_count": 0,
      "outputs": [
        {
          "output_type": "stream",
          "text": [
            "Hi! Everbody\n"
          ],
          "name": "stdout"
        }
      ]
    },
    {
      "metadata": {
        "id": "lhHFoEZ3J3DK",
        "colab_type": "text"
      },
      "cell_type": "markdown",
      "source": [
        "## 1.變數(variable)與資料型態(data type)\n",
        "\n",
        "變數之所以稱為變數最大的原因是值是可變動的，而與之相反的則稱為常數(constant)，為不可變的。\n",
        "\n",
        "在 python 中用 = 來指定(assign)變數的值，並使用 print() 來印出變數的值。"
      ]
    },
    {
      "metadata": {
        "id": "kv2a--WLMbnQ",
        "colab_type": "code",
        "outputId": "f299486b-f5f1-4f1c-dcde-14f5230df1e0",
        "colab": {
          "base_uri": "https://localhost:8080/",
          "height": 87
        }
      },
      "cell_type": "code",
      "source": [
        "# 井字號為單行註解用\n",
        "\n",
        "# 將變數 x 的值設為 8\n",
        "# 在 python 中 8 是一個數值常數\n",
        "x = 8\n",
        "\n",
        "# 印出 x 的值\n",
        "print(x)\n",
        "\n",
        "# 將變數 a 的值設為 88\n",
        "x = 88\n",
        "print(x)\n",
        "\n",
        "# 上下各三個連續單引號所包含的內容為多行註解\n",
        "'''\n",
        "將變數 x 的值設為 '發發發'\n",
        "在 python 中 '發發發' 是一個字串常數\n",
        "'''\n",
        "\n",
        "x = '發發發'\n",
        "print(x)\n",
        "\n",
        "# print() 也可以直接印出常數\n",
        "print(5168) # 印出 5168 這個數值常數\n"
      ],
      "execution_count": 0,
      "outputs": [
        {
          "output_type": "stream",
          "text": [
            "8\n",
            "88\n",
            "發發發\n",
            "5168\n"
          ],
          "name": "stdout"
        }
      ]
    },
    {
      "metadata": {
        "id": "OI18wGaz6ilT",
        "colab_type": "code",
        "outputId": "53d2560a-4340-46e6-e1dc-0329118be3c3",
        "colab": {
          "base_uri": "https://localhost:8080/",
          "height": 441
        }
      },
      "cell_type": "code",
      "source": [
        "%%html\n",
        "<a href=\"https://blockly-demo.appspot.com/static/demos/code/index.html?lang=zh-hant#6egvrr\" target=\"_blank\">\n",
        "  https://blockly-demo.appspot.com/static/demos/code/index.html?lang=en#6egvrr\n",
        "</a>\n",
        "<iframe src=\"https://blockly-demo.appspot.com/static/demos/code/index.html?lang=zh-hant#6egvrr\" width=\"920\" height=\"400\"></iframe>"
      ],
      "execution_count": 0,
      "outputs": [
        {
          "output_type": "display_data",
          "data": {
            "text/html": [
              "<a href=\"https://blockly-demo.appspot.com/static/demos/code/index.html?lang=zh-hant#6egvrr\" target=\"_blank\">\n",
              "  https://blockly-demo.appspot.com/static/demos/code/index.html?lang=en#6egvrr\n",
              "</a>\n",
              "<iframe src=\"https://blockly-demo.appspot.com/static/demos/code/index.html?lang=zh-hant#6egvrr\" width=\"920\" height=\"400\"></iframe>"
            ],
            "text/plain": [
              "<IPython.core.display.HTML object>"
            ]
          },
          "metadata": {
            "tags": []
          }
        }
      ]
    },
    {
      "metadata": {
        "id": "OljIXyWB0WG2",
        "colab_type": "code",
        "outputId": "13f001f6-d759-4f58-edeb-e296911716dc",
        "colab": {
          "base_uri": "https://localhost:8080/",
          "height": 87
        }
      },
      "cell_type": "code",
      "source": [
        "# 自我練習，在下方輸入程式碼\n",
        "\n",
        "x = 8\n",
        "print(x)\n",
        "\n",
        "x = 88\n",
        "print(x)\n",
        "\n",
        "x = '發發發'\n",
        "print(x)\n",
        "\n",
        "台積電股價 = 100\n",
        "一張台積電 = 台積電股價 * 1000\n",
        "print(一張台積電)"
      ],
      "execution_count": 0,
      "outputs": [
        {
          "output_type": "stream",
          "text": [
            "8\n",
            "88\n",
            "發發發\n",
            "100000\n"
          ],
          "name": "stdout"
        }
      ]
    },
    {
      "metadata": {
        "id": "yheQhiHIFL8q",
        "colab_type": "text"
      },
      "cell_type": "markdown",
      "source": [
        "在 python 中，變數與常數可以進一步被分為不同的形態，以下介紹四種比較常用的型態：\n",
        "\n",
        "---\n",
        "int：整數\n",
        "\n",
        "float：小數\n",
        "\n",
        "string：字串\n",
        "\n",
        "list：串列\n"
      ]
    },
    {
      "metadata": {
        "id": "J0jegH53RVct",
        "colab_type": "text"
      },
      "cell_type": "markdown",
      "source": [
        "### 1.1 int （整數） 與 float（浮點數）\n",
        "\n",
        "**int** 與 **float** 都是屬於數值資料型態：\n",
        "\n",
        "**int** 是整數，表示不帶有小數點的數值。\n",
        "\n",
        "**float** 是浮點數，表示任何帶有小數點的數值。"
      ]
    },
    {
      "metadata": {
        "id": "5FHduA7LSG5k",
        "colab_type": "code",
        "outputId": "d10e0509-a95d-49e6-99a6-bf12e92401ff",
        "colab": {
          "base_uri": "https://localhost:8080/",
          "height": 105
        }
      },
      "cell_type": "code",
      "source": [
        "x = 777\n",
        "y = 0.1\n",
        "print(x + y)\n",
        "\n",
        "add = x + 7\n",
        "print(add)\n",
        "\n",
        "minus = x - 7\n",
        "print(minus)\n",
        "\n",
        "mul = x * 7\n",
        "print(mul)\n",
        "\n",
        "div = x / 7\n",
        "print(div)\n"
      ],
      "execution_count": 0,
      "outputs": [
        {
          "output_type": "stream",
          "text": [
            "777.1\n",
            "784\n",
            "770\n",
            "5439\n",
            "111.0\n"
          ],
          "name": "stdout"
        }
      ]
    },
    {
      "metadata": {
        "id": "IiFn-h_80YvF",
        "colab_type": "code",
        "outputId": "a4bbef52-9fd9-4a6c-84c3-fdbb60e00683",
        "colab": {
          "base_uri": "https://localhost:8080/",
          "height": 591
        }
      },
      "cell_type": "code",
      "source": [
        "%%html\n",
        "<a href=\"https://blockly-demo.appspot.com/static/demos/code/index.html?lang=zh-hant#hzrotc\" target=\"_blank\">\n",
        "  https://blockly-demo.appspot.com/static/demos/code/index.html?lang=en#hzrotc\n",
        "</a>\n",
        "<iframe src=\"https://blockly-demo.appspot.com/static/demos/code/index.html?lang=zh-hant#hzrotc\" width=\"920\" height=\"550\"></iframe>"
      ],
      "execution_count": 0,
      "outputs": [
        {
          "output_type": "display_data",
          "data": {
            "text/html": [
              "<a href=\"https://blockly-demo.appspot.com/static/demos/code/index.html?lang=zh-hant#hzrotc\" target=\"_blank\">\n",
              "  https://blockly-demo.appspot.com/static/demos/code/index.html?lang=en#hzrotc\n",
              "</a>\n",
              "<iframe src=\"https://blockly-demo.appspot.com/static/demos/code/index.html?lang=zh-hant#hzrotc\" width=\"920\" height=\"550\"></iframe>"
            ],
            "text/plain": [
              "<IPython.core.display.HTML object>"
            ]
          },
          "metadata": {
            "tags": []
          }
        }
      ]
    },
    {
      "metadata": {
        "id": "XKyvhs121OUS",
        "colab_type": "code",
        "colab": {}
      },
      "cell_type": "code",
      "source": [
        "# 自我練習，在下方輸入程式碼\n",
        "\n"
      ],
      "execution_count": 0,
      "outputs": []
    },
    {
      "metadata": {
        "id": "iSMFCcxxSR6h",
        "colab_type": "text"
      },
      "cell_type": "markdown",
      "source": [
        "### 1.2 string（字串）\n",
        "string 用來儲存文字，在 python 中字串常數需要用兩個單引號 '' 或兩個雙引號 \"\" 包起來。"
      ]
    },
    {
      "metadata": {
        "id": "BaKVe9d1SgmV",
        "colab_type": "code",
        "outputId": "d99b72be-5b61-4210-8f7d-153b53ddf08c",
        "colab": {
          "base_uri": "https://localhost:8080/",
          "height": 87
        }
      },
      "cell_type": "code",
      "source": [
        "x = 'hello'\n",
        "y = 'world'\n",
        "\n",
        "print(x)\n",
        "print(y)\n",
        "\n",
        "# 字串運算跟數值運算不同\n",
        "print(2 + 1)\n",
        "print('2' + '1')\n"
      ],
      "execution_count": 0,
      "outputs": [
        {
          "output_type": "stream",
          "text": [
            "hello\n",
            "world\n",
            "3\n",
            "21\n"
          ],
          "name": "stdout"
        }
      ]
    },
    {
      "metadata": {
        "id": "Sj3eVQ1s5hIP",
        "colab_type": "code",
        "outputId": "f7b0a315-3227-4a81-a519-3d4ebd34e0e4",
        "colab": {
          "base_uri": "https://localhost:8080/",
          "height": 461
        }
      },
      "cell_type": "code",
      "source": [
        "%%html\n",
        "<a href=\"https://blockly-demo.appspot.com/static/demos/code/index.html?lang=zh-hant#a3ibr2\" target=\"_blank\">\n",
        "  https://blockly-demo.appspot.com/static/demos/code/index.html?lang=en#a3ibr2\n",
        "</a>\n",
        "<iframe src=\"https://blockly-demo.appspot.com/static/demos/code/index.html?lang=zh-hant#a3ibr2\" width=\"920\" height=\"400\"></iframe>"
      ],
      "execution_count": 0,
      "outputs": [
        {
          "output_type": "display_data",
          "data": {
            "text/html": [
              "<a href=\"https://blockly-demo.appspot.com/static/demos/code/index.html?lang=zh-hant#a3ibr2\" target=\"_blank\">\n",
              "  https://blockly-demo.appspot.com/static/demos/code/index.html?lang=en#a3ibr2\n",
              "</a>\n",
              "<iframe src=\"https://blockly-demo.appspot.com/static/demos/code/index.html?lang=zh-hant#a3ibr2\" width=\"920\" height=\"400\"></iframe>"
            ],
            "text/plain": [
              "<IPython.core.display.HTML object>"
            ]
          },
          "metadata": {
            "tags": []
          }
        }
      ]
    },
    {
      "metadata": {
        "id": "IzpsEjrD1LRK",
        "colab_type": "code",
        "colab": {}
      },
      "cell_type": "code",
      "source": [
        "# 自我練習，在下方輸入程式碼\n",
        "\n"
      ],
      "execution_count": 0,
      "outputs": []
    },
    {
      "metadata": {
        "id": "7B63EC_LSj3i",
        "colab_type": "text"
      },
      "cell_type": "markdown",
      "source": [
        "### 1.3 list（串列）\n",
        "list 是用來存放多個值的資料型態，在 python 可以用中括號 [] 建立。\n",
        "\n",
        "list 中每個值稱為元素，可以是 int、float、string 甚至 list 等不同型態。"
      ]
    },
    {
      "metadata": {
        "id": "iii-oU5xAEUD",
        "colab_type": "code",
        "outputId": "4c322166-cf07-488a-9f87-af9d29f6d041",
        "colab": {
          "base_uri": "https://localhost:8080/",
          "height": 158
        }
      },
      "cell_type": "code",
      "source": [
        "a = ['hello', 'world'] # 包含 2 個字串常數的 list\n",
        "print(a)\n",
        "\n",
        "b = [1, 2, 3 ] # 包含 3 個 int 常數的 list\n",
        "print(b)\n",
        "\n",
        "c = [0.1, 0.2, 0.3, 0.4] # 包含 4 個 float 常數的 list\n",
        "print(c)\n",
        "\n",
        "d = ['1', 2, 0.3] # 包含 3 個不同型態常數的 list\n",
        "print(d)\n",
        "\n",
        "# len() 可以取得 list 長度\n",
        "print(len(a))\n",
        "print(len(b))\n",
        "\n",
        "# 取得 list 中特定元素\n",
        "print(a[1]) # 印出 list a 中第 1 個元素，在 python 中 list 從 0 開始編號\n",
        "print(c[1:3]) # 印出 list b 中編號 1~2 的元素，注意 1:3 並沒有包含 3\n"
      ],
      "execution_count": 0,
      "outputs": [
        {
          "output_type": "stream",
          "text": [
            "['hello', 'world']\n",
            "[1, 2, 3]\n",
            "[0.1, 0.2, 0.3, 0.4]\n",
            "['1', 2, 0.3]\n",
            "2\n",
            "3\n",
            "world\n",
            "[0.2, 0.3]\n"
          ],
          "name": "stdout"
        }
      ]
    },
    {
      "metadata": {
        "id": "79Y06QFaO-zQ",
        "colab_type": "code",
        "outputId": "ee192180-bf57-4b19-b084-378a26f117b1",
        "colab": {
          "base_uri": "https://localhost:8080/",
          "height": 911
        }
      },
      "cell_type": "code",
      "source": [
        "%%html\n",
        "<a href=\"https://blockly-demo.appspot.com/static/demos/code/index.html?lang=zh-hant#bjoxm2\" target=\"_blank\">\n",
        "  https://blockly-demo.appspot.com/static/demos/code/index.html?lang=en#bjoxm2\n",
        "</a>\n",
        "<iframe src=\"https://blockly-demo.appspot.com/static/demos/code/index.html?lang=zh-hant#bjoxm2\" width=\"920\" height=\"850\"></iframe>"
      ],
      "execution_count": 0,
      "outputs": [
        {
          "output_type": "display_data",
          "data": {
            "text/html": [
              "<a href=\"https://blockly-demo.appspot.com/static/demos/code/index.html?lang=zh-hant#bjoxm2\" target=\"_blank\">\n",
              "  https://blockly-demo.appspot.com/static/demos/code/index.html?lang=en#bjoxm2\n",
              "</a>\n",
              "<iframe src=\"https://blockly-demo.appspot.com/static/demos/code/index.html?lang=zh-hant#bjoxm2\" width=\"920\" height=\"850\"></iframe>"
            ],
            "text/plain": [
              "<IPython.core.display.HTML object>"
            ]
          },
          "metadata": {
            "tags": []
          }
        }
      ]
    },
    {
      "metadata": {
        "id": "E5BTjCjzBDKN",
        "colab_type": "code",
        "colab": {}
      },
      "cell_type": "code",
      "source": [
        "# 自我練習，在下方輸入程式碼\n",
        "\n"
      ],
      "execution_count": 0,
      "outputs": []
    },
    {
      "metadata": {
        "id": "QxOkVrBSVGOe",
        "colab_type": "code",
        "outputId": "d1c963ed-2ddf-44f6-a062-7ebcf6152084",
        "colab": {
          "base_uri": "https://localhost:8080/",
          "height": 87
        }
      },
      "cell_type": "code",
      "source": [
        "a = ['hello', 'world'] # 包含 2 個字串常數的 list\n",
        "print(a)\n",
        "\n",
        "# 更改 list 元素\n",
        "a[1] = 'everybody'\n",
        "print(a)\n",
        "\n",
        "# 新增元素\n",
        "a.append(\"let's coding\")\n",
        "print(a)\n",
        "\n",
        "# 刪除元素\n",
        "a.pop(1)\n",
        "print(a)"
      ],
      "execution_count": 0,
      "outputs": [
        {
          "output_type": "stream",
          "text": [
            "['hello', 'world']\n",
            "['hello', 'everybody']\n",
            "['hello', 'everybody', \"let's coding\"]\n",
            "['hello', \"let's coding\"]\n"
          ],
          "name": "stdout"
        }
      ]
    },
    {
      "metadata": {
        "id": "7UPPo6vHBD3k",
        "colab_type": "code",
        "outputId": "33c42001-1efc-4358-e698-7bac9c2c74de",
        "colab": {
          "base_uri": "https://localhost:8080/",
          "height": 641
        }
      },
      "cell_type": "code",
      "source": [
        "%%html\n",
        "<a href=\"https://blockly-demo.appspot.com/static/demos/code/index.html?lang=zh-hant#fozeo8\" target=\"_blank\">\n",
        "  https://blockly-demo.appspot.com/static/demos/code/index.html?lang=en#fozeo8\n",
        "</a>\n",
        "<iframe src=\"https://blockly-demo.appspot.com/static/demos/code/index.html?lang=zh-hant#fozeo8\" width=\"920\" height=\"600\"></iframe>"
      ],
      "execution_count": 0,
      "outputs": [
        {
          "output_type": "display_data",
          "data": {
            "text/html": [
              "<a href=\"https://blockly-demo.appspot.com/static/demos/code/index.html?lang=zh-hant#fozeo8\" target=\"_blank\">\n",
              "  https://blockly-demo.appspot.com/static/demos/code/index.html?lang=en#fozeo8\n",
              "</a>\n",
              "<iframe src=\"https://blockly-demo.appspot.com/static/demos/code/index.html?lang=zh-hant#fozeo8\" width=\"920\" height=\"600\"></iframe>"
            ],
            "text/plain": [
              "<IPython.core.display.HTML object>"
            ]
          },
          "metadata": {
            "tags": []
          }
        }
      ]
    },
    {
      "metadata": {
        "id": "3gOzESQ9SoKI",
        "colab_type": "code",
        "colab": {}
      },
      "cell_type": "code",
      "source": [
        "# 自我練習，在下方輸入程式碼\n",
        "\n"
      ],
      "execution_count": 0,
      "outputs": []
    },
    {
      "metadata": {
        "id": "CIqOZcpWYkDF",
        "colab_type": "text"
      },
      "cell_type": "markdown",
      "source": [
        "## 2.迴圈(for loop)\n",
        "for 迴圈通常用於已知重複次數的程式，迴圈結構中指定迴圈變數的初始值、終止值與遞增(減)值。\n",
        "\n",
        "迴圈變數將由初始值變化到終止值的前一個數字，每次依照遞增(減)的值進行數值遞增或遞減。"
      ]
    },
    {
      "metadata": {
        "id": "PWJT5HvZY5Qw",
        "colab_type": "code",
        "outputId": "da94ad7a-b473-4a92-af9a-9f781a3e9089",
        "colab": {
          "base_uri": "https://localhost:8080/",
          "height": 263
        }
      },
      "cell_type": "code",
      "source": [
        "a = [1, 2, 3, 4]\n",
        "\n",
        "# 依序取出 a 的元素存放到變數 i，並把 i 印出來\n",
        "for i in a:\n",
        "  print(i) # 注意 python 是依縮排判斷程式碼是否在迴圈內\n",
        "\n",
        "\n",
        "# range(起始值 , 終止值 , 遞增(減)值) 可以產生連續數字的 list\n",
        "j = 0\n",
        "for i in range(1, 16, 2):\n",
        "  print(i)\n",
        "  j = j + i\n",
        "print(j)"
      ],
      "execution_count": 0,
      "outputs": [
        {
          "output_type": "stream",
          "text": [
            "1\n",
            "2\n",
            "3\n",
            "4\n",
            "\n",
            "1\n",
            "3\n",
            "5\n",
            "7\n",
            "9\n",
            "11\n",
            "13\n",
            "15\n",
            "64\n"
          ],
          "name": "stdout"
        }
      ]
    },
    {
      "metadata": {
        "id": "JSumae9uXxwy",
        "colab_type": "code",
        "outputId": "f8b817d0-da1d-4604-cd12-36b4233516a4",
        "colab": {
          "base_uri": "https://localhost:8080/",
          "height": 641
        }
      },
      "cell_type": "code",
      "source": [
        "%%html\n",
        "<a href=\"https://blockly-demo.appspot.com/static/demos/code/index.html?lang=zh-hant#aag7uu\" target=\"_blank\">\n",
        "  https://blockly-demo.appspot.com/static/demos/code/index.html?lang=en#aag7uu\n",
        "</a>\n",
        "<iframe src=\"https://blockly-demo.appspot.com/static/demos/code/index.html?lang=zh-hant#aag7uu\" width=\"920\" height=\"600\"></iframe>"
      ],
      "execution_count": 0,
      "outputs": [
        {
          "output_type": "display_data",
          "data": {
            "text/html": [
              "<a href=\"https://blockly-demo.appspot.com/static/demos/code/index.html?lang=zh-hant#aag7uu\" target=\"_blank\">\n",
              "  https://blockly-demo.appspot.com/static/demos/code/index.html?lang=en#aag7uu\n",
              "</a>\n",
              "<iframe src=\"https://blockly-demo.appspot.com/static/demos/code/index.html?lang=zh-hant#aag7uu\" width=\"920\" height=\"600\"></iframe>"
            ],
            "text/plain": [
              "<IPython.core.display.HTML object>"
            ]
          },
          "metadata": {
            "tags": []
          }
        }
      ]
    },
    {
      "metadata": {
        "id": "hwTz_hGxYUGj",
        "colab_type": "code",
        "colab": {}
      },
      "cell_type": "code",
      "source": [
        "# 自我練習，在下方輸入程式碼\n",
        "\n"
      ],
      "execution_count": 0,
      "outputs": []
    },
    {
      "metadata": {
        "id": "rzYzthWtZE7X",
        "colab_type": "text"
      },
      "cell_type": "markdown",
      "source": [
        "## 3.條件判斷式 (if ... else ...)\n",
        "讓程式依條件判斷執行不同程式區塊。"
      ]
    },
    {
      "metadata": {
        "id": "vfyaIPZuZO0l",
        "colab_type": "code",
        "outputId": "9a89865f-22a0-463b-9f0e-e7714daadc88",
        "colab": {
          "base_uri": "https://localhost:8080/",
          "height": 87
        }
      },
      "cell_type": "code",
      "source": [
        "'''\n",
        "if 條件判斷:\n",
        "  條件成立的程式區塊\n",
        "'''\n",
        "\n",
        "score = int(input('請輸入這次的成績？'))\n",
        "\n",
        "if score >= 60:\n",
        "  print('很好，請繼續保持')\n",
        "\n",
        "\n",
        "'''\n",
        "if 條件判斷:\n",
        "  條件成立的程式區塊\n",
        "else:\n",
        "  條件不成立的敘述\n",
        "'''\n",
        "\n",
        "score = int(input('請輸入這次的成績？'))\n",
        "\n",
        "if score >= 60:\n",
        "  print('很好，請繼續保持')\n",
        "else:\n",
        "  print('加油，請繼續努力')\n"
      ],
      "execution_count": 0,
      "outputs": [
        {
          "output_type": "stream",
          "text": [
            "請輸入這次的成績？80\n",
            "很好，請繼續保持\n",
            "請輸入這次的成績？59\n",
            "加油，請繼續努力\n"
          ],
          "name": "stdout"
        }
      ]
    },
    {
      "metadata": {
        "id": "XAEJPVPIb9iv",
        "colab_type": "code",
        "outputId": "f396221e-6e94-4e9c-fed4-e0573c500587",
        "colab": {
          "base_uri": "https://localhost:8080/",
          "height": 591
        }
      },
      "cell_type": "code",
      "source": [
        "%%html\n",
        "<a href=\"https://blockly-demo.appspot.com/static/demos/code/index.html?lang=zh-hant#f3wsiw\" target=\"_blank\">\n",
        "  https://blockly-demo.appspot.com/static/demos/code/index.html?lang=en#f3wsiw\n",
        "</a>\n",
        "<iframe src=\"https://blockly-demo.appspot.com/static/demos/code/index.html?lang=zh-hant#f3wsiw\" width=\"920\" height=\"550\"></iframe>"
      ],
      "execution_count": 0,
      "outputs": [
        {
          "output_type": "display_data",
          "data": {
            "text/html": [
              "<a href=\"https://blockly-demo.appspot.com/static/demos/code/index.html?lang=zh-hant#f3wsiw\" target=\"_blank\">\n",
              "  https://blockly-demo.appspot.com/static/demos/code/index.html?lang=en#f3wsiw\n",
              "</a>\n",
              "<iframe src=\"https://blockly-demo.appspot.com/static/demos/code/index.html?lang=zh-hant#f3wsiw\" width=\"920\" height=\"550\"></iframe>"
            ],
            "text/plain": [
              "<IPython.core.display.HTML object>"
            ]
          },
          "metadata": {
            "tags": []
          }
        }
      ]
    },
    {
      "metadata": {
        "id": "f0OaRyMPb-D1",
        "colab_type": "code",
        "colab": {}
      },
      "cell_type": "code",
      "source": [
        "# 自我練習，在下方輸入程式碼\n",
        "\n"
      ],
      "execution_count": 0,
      "outputs": []
    },
    {
      "metadata": {
        "id": "K55AYub3Zbxe",
        "colab_type": "text"
      },
      "cell_type": "markdown",
      "source": [
        "## 4.函式(Function)\n",
        "函式是一段有特定功能、可以重複使用的程式區段，前面所用到的 print()、len()、range() 都是函式。\n",
        "\n",
        "程式開發上會將常用的程式區段宣告為函式，供其他程式碼呼叫。"
      ]
    },
    {
      "metadata": {
        "id": "-Y6fduuTZjic",
        "colab_type": "code",
        "outputId": "25d2842b-90d5-4ace-8b86-e7f8e1bf4693",
        "colab": {
          "base_uri": "https://localhost:8080/",
          "height": 105
        }
      },
      "cell_type": "code",
      "source": [
        "# 函式可以有多個參數\n",
        "def print_info(name, gender):\n",
        "  print('Name:', name)\n",
        "  print('Gender:', gender)\n",
        "\n",
        "print_info(gender='Male', name='Jason') # 指定參數名稱時，可以不用照原本宣告的順序\n",
        "\n",
        "# 宣告一個傳入身高，體重並計算 BMI 的函式\n",
        "def printBMI(height, weight):\n",
        "  bmi = weight/(height**2)\n",
        "  print('BMI is:', bmi) # 注意 python 是依縮排判斷程式碼是否在函式內\n",
        "\n",
        "printBMI(1.8, 80)\n",
        "\n",
        "# 函式可以有回傳值\n",
        "def calBMI(height, weight):\n",
        "  bmi = weight/(height**2)\n",
        "  return bmi\n",
        "\n",
        "input(\"\")\n",
        "x = calBMI(1.78, 60)\n",
        "if x < 20:\n",
        "  print(x)\n",
        "print('BMI is:', x)\n"
      ],
      "execution_count": 0,
      "outputs": [
        {
          "output_type": "stream",
          "text": [
            "Name: Jason\n",
            "Gender: Male\n",
            "BMI is: 24.691358024691358\n",
            "18.93700290367378\n",
            "BMI is: 18.93700290367378\n"
          ],
          "name": "stdout"
        }
      ]
    },
    {
      "metadata": {
        "id": "3RyoUulhya3L",
        "colab_type": "code",
        "outputId": "a9e9413f-c99f-468f-ca24-afd52353e38c",
        "colab": {
          "base_uri": "https://localhost:8080/",
          "height": 961
        }
      },
      "cell_type": "code",
      "source": [
        "%%html\n",
        "<a href=\"https://blockly-demo.appspot.com/static/demos/code/index.html?lang=zh-hant#exttx9\" target=\"_blank\">\n",
        "  https://blockly-demo.appspot.com/static/demos/code/index.html?lang=en#exttx9\n",
        "</a>\n",
        "<iframe src=\"https://blockly-demo.appspot.com/static/demos/code/index.html?lang=zh-hant#exttx9\" width=\"920\" height=\"920\"></iframe>"
      ],
      "execution_count": 0,
      "outputs": [
        {
          "output_type": "display_data",
          "data": {
            "text/html": [
              "<a href=\"https://blockly-demo.appspot.com/static/demos/code/index.html?lang=zh-hant#exttx9\" target=\"_blank\">\n",
              "  https://blockly-demo.appspot.com/static/demos/code/index.html?lang=en#exttx9\n",
              "</a>\n",
              "<iframe src=\"https://blockly-demo.appspot.com/static/demos/code/index.html?lang=zh-hant#exttx9\" width=\"920\" height=\"920\"></iframe>"
            ],
            "text/plain": [
              "<IPython.core.display.HTML object>"
            ]
          },
          "metadata": {
            "tags": []
          }
        }
      ]
    },
    {
      "metadata": {
        "id": "0-fq2pvmzmI9",
        "colab_type": "code",
        "colab": {}
      },
      "cell_type": "code",
      "source": [
        "# 自我練習，在下方輸入程式碼\n",
        "\n"
      ],
      "execution_count": 0,
      "outputs": []
    },
    {
      "metadata": {
        "id": "COn1hV4hlY-t",
        "colab_type": "text"
      },
      "cell_type": "markdown",
      "source": [
        "# 範例練習 - 終極密碼\n"
      ]
    },
    {
      "metadata": {
        "id": "63HgjF6MpUo1",
        "colab_type": "code",
        "outputId": "fefc4c5b-7a59-45cf-b7de-098f9769757f",
        "colab": {
          "base_uri": "https://localhost:8080/",
          "height": 641
        }
      },
      "cell_type": "code",
      "source": [
        "%%html\n",
        "<a href=\"https://blockly-demo.appspot.com/static/demos/code/index.html?lang=zh-hant#vki8h5\" target=\"_blank\">\n",
        "  https://blockly-demo.appspot.com/static/demos/code/index.html?lang=zh-hant#vki8h5\n",
        "</a>\n",
        "<iframe src=\"https://blockly-demo.appspot.com/static/demos/code/index.html?lang=zh-hant#vki8h5\" width=\"920\" height=\"600\"></iframe>"
      ],
      "execution_count": 0,
      "outputs": [
        {
          "output_type": "display_data",
          "data": {
            "text/html": [
              "<a href=\"https://blockly-demo.appspot.com/static/demos/code/index.html?lang=zh-hant#vki8h5\" target=\"_blank\">\n",
              "  https://blockly-demo.appspot.com/static/demos/code/index.html?lang=zh-hant#vki8h5\n",
              "</a>\n",
              "<iframe src=\"https://blockly-demo.appspot.com/static/demos/code/index.html?lang=zh-hant#vki8h5\" width=\"920\" height=\"600\"></iframe>"
            ],
            "text/plain": [
              "<IPython.core.display.HTML object>"
            ]
          },
          "metadata": {
            "tags": []
          }
        }
      ]
    },
    {
      "metadata": {
        "id": "LSnftJ_JlZj-",
        "colab_type": "code",
        "colab": {}
      },
      "cell_type": "code",
      "source": [
        "#自我練習，在下方輸入程式碼\n",
        "\n"
      ],
      "execution_count": 0,
      "outputs": []
    },
    {
      "metadata": {
        "id": "7877m1mh0M1s",
        "colab_type": "text"
      },
      "cell_type": "markdown",
      "source": [
        "# 自我練習 - 完整 BMI 計算機\n",
        "\n",
        "參考衛福部網站的 BMI 測試功能，開發類似的程式功能\n",
        "\n",
        "http://health99.hpa.gov.tw/OnlinkHealth/Onlink_BMI.aspx"
      ]
    }
  ]
}